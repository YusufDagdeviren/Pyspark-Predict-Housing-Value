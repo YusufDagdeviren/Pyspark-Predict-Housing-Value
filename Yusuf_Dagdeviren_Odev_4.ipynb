{
 "cells": [
  {
   "cell_type": "code",
   "execution_count": 52,
   "metadata": {},
   "outputs": [],
   "source": [
    "from pyspark.ml.regression import LinearRegression\n",
    "from pyspark.sql.types import *\n",
    "import pyspark.sql.functions as Function\n",
    "from pyspark.ml.feature import VectorAssembler"
   ]
  },
  {
   "cell_type": "markdown",
   "metadata": {},
   "source": [
    "# Adım 1: Verilerin Yüklenmesi"
   ]
  },
  {
   "cell_type": "code",
   "execution_count": 53,
   "metadata": {},
   "outputs": [],
   "source": [
    "spark = SparkSession \\\n",
    ".builder \\\n",
    ".appName(\"Tubitak Odev 4\") \\\n",
    ".getOrCreate()"
   ]
  },
  {
   "cell_type": "code",
   "execution_count": 54,
   "metadata": {},
   "outputs": [],
   "source": [
    "csv = spark.read.csv(r\"D:\\YZUP-Notlarim\\YZUP-Uzmanlık-Egitim\\Tubitak-VeriYogunUygulamalar\\Tubitak Spark Proje\\data\\housing.csv\", inferSchema=True, header=True)"
   ]
  },
  {
   "cell_type": "markdown",
   "metadata": {},
   "source": [
    "# Adım 2: Verilerin Çeşitli Spark Fonksiyonları Kullanılarak İncelenmesi"
   ]
  },
  {
   "cell_type": "code",
   "execution_count": 65,
   "metadata": {},
   "outputs": [
    {
     "name": "stdout",
     "output_type": "stream",
     "text": [
      "+---------+--------+------------------+-----------+--------------+----------+----------+-------------+------------------+---------------+\n",
      "|longitude|latitude|housing_median_age|total_rooms|total_bedrooms|population|households|median_income|median_house_value|ocean_proximity|\n",
      "+---------+--------+------------------+-----------+--------------+----------+----------+-------------+------------------+---------------+\n",
      "|  -122.23|   37.88|              41.0|      880.0|         129.0|     322.0|     126.0|       8.3252|          452600.0|       NEAR BAY|\n",
      "|  -122.22|   37.86|              21.0|     7099.0|        1106.0|    2401.0|    1138.0|       8.3014|          358500.0|       NEAR BAY|\n",
      "|  -122.24|   37.85|              52.0|     1467.0|         190.0|     496.0|     177.0|       7.2574|          352100.0|       NEAR BAY|\n",
      "|  -122.25|   37.85|              52.0|     1274.0|         235.0|     558.0|     219.0|       5.6431|          341300.0|       NEAR BAY|\n",
      "|  -122.25|   37.85|              52.0|     1627.0|         280.0|     565.0|     259.0|       3.8462|          342200.0|       NEAR BAY|\n",
      "+---------+--------+------------------+-----------+--------------+----------+----------+-------------+------------------+---------------+\n",
      "only showing top 5 rows\n",
      "\n"
     ]
    }
   ],
   "source": [
    "csv.show(5)"
   ]
  },
  {
   "cell_type": "code",
   "execution_count": 66,
   "metadata": {},
   "outputs": [
    {
     "name": "stdout",
     "output_type": "stream",
     "text": [
      "root\n",
      " |-- longitude: double (nullable = true)\n",
      " |-- latitude: double (nullable = true)\n",
      " |-- housing_median_age: double (nullable = true)\n",
      " |-- total_rooms: double (nullable = true)\n",
      " |-- total_bedrooms: double (nullable = true)\n",
      " |-- population: double (nullable = true)\n",
      " |-- households: double (nullable = true)\n",
      " |-- median_income: double (nullable = true)\n",
      " |-- median_house_value: double (nullable = true)\n",
      " |-- ocean_proximity: string (nullable = true)\n",
      "\n"
     ]
    }
   ],
   "source": [
    "csv.printSchema()"
   ]
  },
  {
   "cell_type": "code",
   "execution_count": 64,
   "metadata": {},
   "outputs": [
    {
     "data": {
      "text/plain": [
       "<Axes: xlabel='ocean_proximity'>"
      ]
     },
     "execution_count": 64,
     "metadata": {},
     "output_type": "execute_result"
    },
    {
     "data": {
      "image/png": "[encoded data removed]",
      "text/plain": [
       "<Figure size 640x480 with 1 Axes>"
      ]
     },
     "metadata": {},
     "output_type": "display_data"
    }
   ],
   "source": [
    "ocean_prox = csv.groupBy(\"ocean_proximity\").count()\n",
    "ocean_prox.toPandas().plot.bar(x=\"ocean_proximity\")"
   ]
  },
  {
   "cell_type": "code",
   "execution_count": 61,
   "metadata": {},
   "outputs": [
    {
     "name": "stdout",
     "output_type": "stream",
     "text": [
      "+-------+---------+--------+------------------+-----------+--------------+----------+----------+-------------+------------------+\n",
      "|summary|longitude|latitude|housing_median_age|total_rooms|total_bedrooms|population|households|median_income|median_house_value|\n",
      "+-------+---------+--------+------------------+-----------+--------------+----------+----------+-------------+------------------+\n",
      "|  count|  20640.0| 20640.0|           20640.0|    20640.0|       20433.0|   20640.0|   20640.0|      20640.0|           20640.0|\n",
      "|   mean|  -119.57|   35.63|             28.64|    2635.76|        537.87|   1425.48|    499.54|         3.87|         206855.82|\n",
      "| stddev|      2.0|    2.14|             12.59|    2181.62|        421.39|   1132.46|    382.33|          1.9|         115395.62|\n",
      "|    min|  -124.35|   32.54|               1.0|        2.0|           1.0|       3.0|       1.0|          0.5|           14999.0|\n",
      "|    max|  -114.31|   41.95|              52.0|    39320.0|        6445.0|   35682.0|    6082.0|         15.0|          500001.0|\n",
      "+-------+---------+--------+------------------+-----------+--------------+----------+----------+-------------+------------------+\n",
      "\n"
     ]
    }
   ],
   "source": [
    "(csv.describe().select(\n",
    "                    \"summary\",\n",
    "                    Function.round(\"longitude\",2).alias(\"longitude\"),\n",
    "                    Function.round(\"latitude\",2).alias(\"latitude\"),\n",
    "                    Function.round(\"housing_median_age\", 2).alias(\"housing_median_age\"),\n",
    "                    Function.round(\"total_rooms\", 2).alias(\"total_rooms\"),\n",
    "                    Function.round(\"total_bedrooms\", 2).alias(\"total_bedrooms\"),\n",
    "                    Function.round(\"population\", 2).alias(\"population\"),\n",
    "                    Function.round(\"households\", 2).alias(\"households\"),\n",
    "                    Function.round(\"median_income\", 2).alias(\"median_income\"),\n",
    "                    Function.round(\"median_house_value\", 2).alias(\"median_house_value\"))\n",
    "                    .show())"
   ]
  },
  {
   "cell_type": "code",
   "execution_count": null,
   "metadata": {},
   "outputs": [],
   "source": []
  }
 ],
 "metadata": {
  "kernelspec": {
   "display_name": "Python 3",
   "language": "python",
   "name": "python3"
  },
  "language_info": {
   "codemirror_mode": {
    "name": "ipython",
    "version": 3
   },
   "file_extension": ".py",
   "mimetype": "text/x-python",
   "name": "python",
   "nbconvert_exporter": "python",
   "pygments_lexer": "ipython3",
   "version": "3.8.0"
  }
 },
 "nbformat": 4,
 "nbformat_minor": 2
}
